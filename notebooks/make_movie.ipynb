{
 "cells": [
  {
   "cell_type": "code",
   "execution_count": 1,
   "metadata": {},
   "outputs": [],
   "source": [
    "import numpy as np\n",
    "import cv2"
   ]
  },
  {
   "cell_type": "code",
   "execution_count": 2,
   "metadata": {},
   "outputs": [],
   "source": [
    "# 動画の読み込み\n",
    "cap = cv2.VideoCapture('../input/movie/raw/timelapse.mp4')\n",
    "\n",
    "KERNEL_SIZE = 15\n",
    "\n",
    "# config\n",
    "width = int(cap.get(cv2.CAP_PROP_FRAME_WIDTH))\n",
    "height = int(cap.get(cv2.CAP_PROP_FRAME_HEIGHT))\n",
    "fps = cap.get(cv2.CAP_PROP_FPS)\n",
    "fourcc = cv2.VideoWriter_fourcc(*'MP4V')\n",
    "writer = cv2.VideoWriter(\n",
    "    '../output/movie/output.mp4',\n",
    "    fourcc,\n",
    "    fps,\n",
    "    (width, height),\n",
    "    isColor = True\n",
    ")\n",
    "\n",
    "\n",
    "while True:\n",
    "    ret, frame = cap.read()\n",
    "\n",
    "    if not ret:\n",
    "        break\n",
    "\n",
    "    # gray scale\n",
    "    frame_gray = cv2.cvtColor(frame, cv2.COLOR_BGR2GRAY)\n",
    "\n",
    "    # binarization using Otsu's method\n",
    "    _, th = cv2.threshold(frame_gray, 0, 255, cv2.THRESH_BINARY+cv2.THRESH_OTSU)\n",
    "\n",
    "    # configure the kernel\n",
    "    kernel = np.ones((KERNEL_SIZE, KERNEL_SIZE),np.uint8)\n",
    "\n",
    "    # morphological transformation(Dilation)\n",
    "    th_dilation = cv2.dilate(th, kernel, iterations = 1)\n",
    "    \n",
    "    # contour extraction\n",
    "    contours, hierarchy = cv2.findContours(th_dilation,\n",
    "                                           cv2.RETR_LIST,\n",
    "                                           cv2.CHAIN_APPROX_NONE)\n",
    "\n",
    "    # draw the contours on the source image\n",
    "    img_contour = cv2.drawContours(frame.copy(), contours, -1, (0, 255, 0), 2)\n",
    "\n",
    "    cv2.imshow('frame', img_contour)\n",
    "\n",
    "    writer.write(img_contour)\n",
    "\n",
    "    k = cv2.waitKey(1) & 0xff\n",
    "    if k == 27:\n",
    "        break\n",
    "\n",
    "\n",
    "cap.release()\n",
    "writer.release()\n",
    "cv2.destroyAllWindows()\n"
   ]
  }
 ],
 "metadata": {
  "kernelspec": {
   "display_name": "Python 3.9.7 ('base')",
   "language": "python",
   "name": "python3"
  },
  "language_info": {
   "codemirror_mode": {
    "name": "ipython",
    "version": 3
   },
   "file_extension": ".py",
   "mimetype": "text/x-python",
   "name": "python",
   "nbconvert_exporter": "python",
   "pygments_lexer": "ipython3",
   "version": "3.9.7"
  },
  "orig_nbformat": 4,
  "vscode": {
   "interpreter": {
    "hash": "24c1640307f24a58a0fa2f094f9233c094312f72655a74c470e0955fca66f830"
   }
  }
 },
 "nbformat": 4,
 "nbformat_minor": 2
}
