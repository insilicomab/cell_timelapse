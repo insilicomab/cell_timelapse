{
 "cells": [
  {
   "cell_type": "code",
   "execution_count": 10,
   "metadata": {},
   "outputs": [],
   "source": [
    "import numpy as np\n",
    "import pandas as pd\n",
    "import cv2\n",
    "import matplotlib.pyplot as plt"
   ]
  },
  {
   "cell_type": "code",
   "execution_count": 18,
   "metadata": {},
   "outputs": [],
   "source": [
    "# 動画の読み込み\n",
    "cap = cv2.VideoCapture('../input/movie/raw/timelapse.mp4')\n",
    "\n",
    "KERNEL_SIZE = 15\n",
    "\n",
    "# calculated confluency list\n",
    "conflu_list = []\n",
    "\n",
    "\n",
    "while True:\n",
    "    ret, frame = cap.read()\n",
    "\n",
    "    if not ret:\n",
    "        break\n",
    "\n",
    "    # gray scale\n",
    "    frame_gray = cv2.cvtColor(frame, cv2.COLOR_BGR2GRAY)\n",
    "\n",
    "    # binarization using Otsu's method\n",
    "    _, th = cv2.threshold(frame_gray, 0, 255, cv2.THRESH_BINARY+cv2.THRESH_OTSU)\n",
    "\n",
    "    # configure the kernel\n",
    "    kernel = np.ones((KERNEL_SIZE, KERNEL_SIZE),np.uint8)\n",
    "\n",
    "    # morphological transformation(Dilation)\n",
    "    th_dilation = cv2.dilate(th, kernel, iterations = 1)\n",
    "    \n",
    "    # contour extraction\n",
    "    contours, hierarchy = cv2.findContours(th_dilation,\n",
    "                                           cv2.RETR_LIST,\n",
    "                                           cv2.CHAIN_APPROX_NONE)\n",
    "\n",
    "    # draw the contours on the source image\n",
    "    img_contour = cv2.drawContours(frame.copy(), contours, -1, (0, 255, 0), 2)\n",
    "\n",
    "    # total number of pixels\n",
    "    whole_area = th_dilation.size\n",
    "\n",
    "    # number of zero area pixels\n",
    "    white_area = cv2.countNonZero(th_dilation)\n",
    "\n",
    "    # calculate confluency\n",
    "    confluency = int(white_area / whole_area * 100)\n",
    "\n",
    "    # append to list\n",
    "    conflu_list.append(confluency)\n",
    "\n",
    "\n"
   ]
  },
  {
   "cell_type": "code",
   "execution_count": 25,
   "metadata": {},
   "outputs": [],
   "source": [
    "# make dataframe\n",
    "df = pd.DataFrame(conflu_list, columns=['confluency'])\n",
    "df['frame'] = df.index\n",
    "df.set_index('frame',inplace=True)"
   ]
  },
  {
   "cell_type": "code",
   "execution_count": 20,
   "metadata": {},
   "outputs": [
    {
     "data": {
      "image/png": "[encoded data removed]",
      "text/plain": [
       "<Figure size 432x288 with 1 Axes>"
      ]
     },
     "metadata": {
      "needs_background": "light"
     },
     "output_type": "display_data"
    }
   ],
   "source": [
    "plt.plot(conflu_list)\n",
    "plt.xlabel('frame')\n",
    "plt.ylabel('confluency(%)')\n",
    "plt.show()"
   ]
  }
 ],
 "metadata": {
  "kernelspec": {
   "display_name": "Python 3.9.7 ('base')",
   "language": "python",
   "name": "python3"
  },
  "language_info": {
   "codemirror_mode": {
    "name": "ipython",
    "version": 3
   },
   "file_extension": ".py",
   "mimetype": "text/x-python",
   "name": "python",
   "nbconvert_exporter": "python",
   "pygments_lexer": "ipython3",
   "version": "3.9.7"
  },
  "orig_nbformat": 4,
  "vscode": {
   "interpreter": {
    "hash": "24c1640307f24a58a0fa2f094f9233c094312f72655a74c470e0955fca66f830"
   }
  }
 },
 "nbformat": 4,
 "nbformat_minor": 2
}
